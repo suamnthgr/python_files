{
 "cells": [
  {
   "cell_type": "code",
   "execution_count": 2,
   "id": "2fa4a529",
   "metadata": {},
   "outputs": [
    {
     "name": "stdout",
     "output_type": "stream",
     "text": [
      "105\n"
     ]
    }
   ],
   "source": [
    "n=105\n",
    "print(n)"
   ]
  },
  {
   "cell_type": "code",
   "execution_count": 4,
   "id": "54fba423",
   "metadata": {},
   "outputs": [
    {
     "name": "stdout",
     "output_type": "stream",
     "text": [
      "2729089062512 <class 'int'>\n"
     ]
    }
   ],
   "source": [
    "print(id(n),type(n))"
   ]
  },
  {
   "cell_type": "code",
   "execution_count": 9,
   "id": "1ac4a505",
   "metadata": {},
   "outputs": [
    {
     "name": "stdout",
     "output_type": "stream",
     "text": [
      "('sumanth', 1, 3, 6, 'hassan')\n"
     ]
    }
   ],
   "source": [
    "s=\"sumanth\",1,3,6,\"hassan\"\n",
    "print(s)"
   ]
  },
  {
   "cell_type": "code",
   "execution_count": 12,
   "id": "b9fc5dcd",
   "metadata": {},
   "outputs": [
    {
     "name": "stdout",
     "output_type": "stream",
     "text": [
      "2729175447408 <class 'tuple'>\n"
     ]
    }
   ],
   "source": [
    "print(id(s),type(s))"
   ]
  },
  {
   "cell_type": "code",
   "execution_count": 20,
   "id": "c8a39164",
   "metadata": {},
   "outputs": [
    {
     "name": "stdout",
     "output_type": "stream",
     "text": [
      "suman\n"
     ]
    }
   ],
   "source": [
    "p=\"suman\"\n",
    "print(p)"
   ]
  },
  {
   "cell_type": "code",
   "execution_count": 22,
   "id": "bfe62a9e",
   "metadata": {},
   "outputs": [
    {
     "name": "stdout",
     "output_type": "stream",
     "text": [
      "2729148394672 <class 'str'>\n"
     ]
    }
   ],
   "source": [
    "print(id(p),type(p))"
   ]
  },
  {
   "cell_type": "code",
   "execution_count": 26,
   "id": "e1745794",
   "metadata": {},
   "outputs": [
    {
     "name": "stdout",
     "output_type": "stream",
     "text": [
      "55.5\n"
     ]
    }
   ],
   "source": [
    "a=55.5\n",
    "print(a)"
   ]
  },
  {
   "cell_type": "code",
   "execution_count": 28,
   "id": "37dff7c3",
   "metadata": {},
   "outputs": [
    {
     "name": "stdout",
     "output_type": "stream",
     "text": [
      "2729202802320 <class 'float'>\n"
     ]
    }
   ],
   "source": [
    "print(id(a),type(a))"
   ]
  },
  {
   "cell_type": "code",
   "execution_count": 33,
   "id": "cac8a839",
   "metadata": {},
   "outputs": [
    {
     "name": "stdout",
     "output_type": "stream",
     "text": [
      "['a', 1, 2, 3]\n"
     ]
    }
   ],
   "source": [
    "u=[\"a\",1,2,3]\n",
    "print(u)"
   ]
  },
  {
   "cell_type": "code",
   "execution_count": 35,
   "id": "dfc2ebc2",
   "metadata": {},
   "outputs": [
    {
     "name": "stdout",
     "output_type": "stream",
     "text": [
      "2729175489152 <class 'list'>\n"
     ]
    }
   ],
   "source": [
    "print(id(u),type(u))"
   ]
  },
  {
   "cell_type": "code",
   "execution_count": 37,
   "id": "84272b0f",
   "metadata": {},
   "outputs": [
    {
     "name": "stdout",
     "output_type": "stream",
     "text": [
      "{1}\n"
     ]
    }
   ],
   "source": [
    "y={1}\n",
    "print(y)"
   ]
  },
  {
   "cell_type": "code",
   "execution_count": 39,
   "id": "e8d2d3aa",
   "metadata": {},
   "outputs": [
    {
     "name": "stdout",
     "output_type": "stream",
     "text": [
      "2729202859360 <class 'set'>\n"
     ]
    }
   ],
   "source": [
    "print(id(y),type(y))"
   ]
  },
  {
   "cell_type": "code",
   "execution_count": 54,
   "id": "f06056ba",
   "metadata": {},
   "outputs": [
    {
     "name": "stdout",
     "output_type": "stream",
     "text": [
      "{'brand': 'dell'}\n"
     ]
    }
   ],
   "source": [
    "x={\"brand\":\"dell\"}\n",
    "print(x)"
   ]
  },
  {
   "cell_type": "code",
   "execution_count": 55,
   "id": "edef954e",
   "metadata": {},
   "outputs": [
    {
     "name": "stdout",
     "output_type": "stream",
     "text": [
      "2729174773632 <class 'dict'>\n"
     ]
    }
   ],
   "source": [
    "print(id(x),type(x))"
   ]
  }
 ],
 "metadata": {
  "kernelspec": {
   "display_name": "Python 3 (ipykernel)",
   "language": "python",
   "name": "python3"
  },
  "language_info": {
   "codemirror_mode": {
    "name": "ipython",
    "version": 3
   },
   "file_extension": ".py",
   "mimetype": "text/x-python",
   "name": "python",
   "nbconvert_exporter": "python",
   "pygments_lexer": "ipython3",
   "version": "3.9.12"
  }
 },
 "nbformat": 4,
 "nbformat_minor": 5
}
