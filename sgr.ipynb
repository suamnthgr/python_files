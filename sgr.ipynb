{
 "cells": [
  {
   "cell_type": "code",
   "execution_count": 35,
   "id": "4668fa24",
   "metadata": {},
   "outputs": [
    {
     "name": "stdout",
     "output_type": "stream",
     "text": [
      "shashank\n"
     ]
    }
   ],
   "source": [
    "i=\"shashank\"\n",
    "print(i)"
   ]
  },
  {
   "cell_type": "code",
   "execution_count": 36,
   "id": "d421dce9",
   "metadata": {},
   "outputs": [
    {
     "name": "stdout",
     "output_type": "stream",
     "text": [
      "<class 'str'>\n"
     ]
    }
   ],
   "source": [
    "print(type(i))"
   ]
  },
  {
   "cell_type": "code",
   "execution_count": 38,
   "id": "6b62c498",
   "metadata": {},
   "outputs": [
    {
     "name": "stdout",
     "output_type": "stream",
     "text": [
      "2473625220912\n"
     ]
    }
   ],
   "source": [
    "print(id(i))"
   ]
  },
  {
   "cell_type": "code",
   "execution_count": 44,
   "id": "06e91eca",
   "metadata": {},
   "outputs": [
    {
     "name": "stdout",
     "output_type": "stream",
     "text": [
      "2473560715568 <class 'str'>\n"
     ]
    }
   ],
   "source": [
    "n=\"\"\"eo\"\"\"\n",
    "print(id(n),type(n))"
   ]
  },
  {
   "cell_type": "code",
   "execution_count": 53,
   "id": "2825402b",
   "metadata": {},
   "outputs": [
    {
     "name": "stdout",
     "output_type": "stream",
     "text": [
      "2473595952512 <class 'list'>\n"
     ]
    }
   ],
   "source": [
    "i=[\"shashank\",\"shashank\",\"110\",\"20\"]\n",
    "print(id(i),type(i))"
   ]
  }
 ],
 "metadata": {
  "kernelspec": {
   "display_name": "Python 3 (ipykernel)",
   "language": "python",
   "name": "python3"
  },
  "language_info": {
   "codemirror_mode": {
    "name": "ipython",
    "version": 3
   },
   "file_extension": ".py",
   "mimetype": "text/x-python",
   "name": "python",
   "nbconvert_exporter": "python",
   "pygments_lexer": "ipython3",
   "version": "3.9.12"
  }
 },
 "nbformat": 4,
 "nbformat_minor": 5
}
